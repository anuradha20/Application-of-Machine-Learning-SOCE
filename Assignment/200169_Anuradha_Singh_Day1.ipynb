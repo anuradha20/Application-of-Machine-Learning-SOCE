{
  "cells": [
    {
      "cell_type": "markdown",
      "metadata": {
        "id": "mP0HTa3mRIpC"
      },
      "source": [
        "## Exercises\n",
        "\n",
        "Answer the questions or complete the tasks outlined in bold below, use the specific method described if applicable."
      ]
    },
    {
      "cell_type": "markdown",
      "metadata": {
        "id": "iI7grnRLRIpH"
      },
      "source": [
        "** What is 7 to the power of 4?**"
      ]
    },
    {
      "cell_type": "code",
      "execution_count": null,
      "metadata": {
        "id": "tSIvPybaRIpI",
        "outputId": "4f247a9b-1c87-4557-9b76-f5a2c349b3d3",
        "colab": {
          "base_uri": "https://localhost:8080/"
        }
      },
      "outputs": [
        {
          "output_type": "stream",
          "name": "stdout",
          "text": [
            "2401\n"
          ]
        }
      ],
      "source": [
        "7**4"
      ]
    },
    {
      "cell_type": "markdown",
      "metadata": {
        "id": "taRnoV04RIpK"
      },
      "source": [
        "** Split this string:**\n",
        "\n",
        "    s = \"Hi there Sam!\"\n",
        "    \n",
        "**into a list. **"
      ]
    },
    {
      "cell_type": "code",
      "execution_count": null,
      "metadata": {
        "collapsed": true,
        "id": "xWvp31zTRIpK",
        "colab": {
          "base_uri": "https://localhost:8080/"
        },
        "outputId": "f9f6fb01-b5df-4570-c079-e4409da07962"
      },
      "outputs": [
        {
          "output_type": "execute_result",
          "data": {
            "text/plain": [
              "['Hi', 'there', 'Sam!']"
            ]
          },
          "metadata": {},
          "execution_count": 4
        }
      ],
      "source": [
        "s=\"Hi there Sam!\"\n",
        "s.split()"
      ]
    },
    {
      "cell_type": "code",
      "execution_count": null,
      "metadata": {
        "id": "0aDqMbuqRIpL",
        "outputId": "f1282c59-727f-406b-dd91-e0772f8244d0",
        "colab": {
          "base_uri": "https://localhost:8080/"
        }
      },
      "outputs": [
        {
          "output_type": "execute_result",
          "data": {
            "text/plain": [
              "['Hi', 'there', 'dad!']"
            ]
          },
          "metadata": {},
          "execution_count": 5
        }
      ],
      "source": [
        "v=\"Hi there dad!\"\n",
        "v.split()"
      ]
    },
    {
      "cell_type": "markdown",
      "metadata": {
        "id": "b4heGAtyRIpL"
      },
      "source": [
        "** Given the variables:**\n",
        "\n",
        "    planet = \"Earth\"\n",
        "    diameter = 12742\n",
        "\n",
        "** Use .format() to print the following string: **\n",
        "\n",
        "    The diameter of Earth is 12742 kilometers."
      ]
    },
    {
      "cell_type": "code",
      "execution_count": 8,
      "metadata": {
        "collapsed": true,
        "id": "KJZWbWEcRIpM"
      },
      "outputs": [],
      "source": [
        "planet = \"Earth\"\n",
        "diameter = 12742"
      ]
    },
    {
      "cell_type": "code",
      "execution_count": 12,
      "metadata": {
        "id": "54jCJeOiRIpN",
        "outputId": "bcc99ad9-4ad8-4c19-e49c-7a9236da8b74",
        "colab": {
          "base_uri": "https://localhost:8080/"
        }
      },
      "outputs": [
        {
          "output_type": "stream",
          "name": "stdout",
          "text": [
            "The diameter of Earth is 12742 kilometers.\n"
          ]
        }
      ],
      "source": [
        "print('The diameter of {p} is {d} kilometers.'.format(p=planet,d=diameter))"
      ]
    },
    {
      "cell_type": "markdown",
      "metadata": {
        "id": "fFQHrYktRIpO"
      },
      "source": [
        "** Given this nested list, use indexing to grab the word \"hello\" **"
      ]
    },
    {
      "cell_type": "code",
      "execution_count": 14,
      "metadata": {
        "collapsed": true,
        "id": "KeaJsinoRIpO"
      },
      "outputs": [],
      "source": [
        "lst = [1,2,[3,4],[5,[100,200,['hello']],23,11],1,7]"
      ]
    },
    {
      "cell_type": "code",
      "execution_count": 15,
      "metadata": {
        "id": "ypcj-_WMRIpP",
        "outputId": "3fbf1f75-bb55-4abb-d5b1-3f39ba2004f0",
        "colab": {
          "base_uri": "https://localhost:8080/"
        }
      },
      "outputs": [
        {
          "output_type": "execute_result",
          "data": {
            "text/plain": [
              "['hello']"
            ]
          },
          "metadata": {},
          "execution_count": 15
        }
      ],
      "source": [
        "lst[3][1][2]"
      ]
    },
    {
      "cell_type": "markdown",
      "metadata": {
        "id": "upsQeTQARIpP"
      },
      "source": [
        "** Given this nested dictionary grab the word \"hello\". Be prepared, this will be annoying/tricky **"
      ]
    },
    {
      "cell_type": "code",
      "execution_count": 19,
      "metadata": {
        "id": "LXwNcn8hRIpQ"
      },
      "outputs": [],
      "source": [
        "d = {'k1':[1,2,3,{'tricky':['oh','man','inception',{'target':[1,2,3,'hello']}]}]}"
      ]
    },
    {
      "cell_type": "code",
      "execution_count": 22,
      "metadata": {
        "id": "13X3-A6bRIpQ",
        "outputId": "6f53dfcb-e441-438f-8628-f6fd04119702",
        "colab": {
          "base_uri": "https://localhost:8080/",
          "height": 36
        }
      },
      "outputs": [
        {
          "output_type": "execute_result",
          "data": {
            "text/plain": [
              "'hello'"
            ],
            "application/vnd.google.colaboratory.intrinsic+json": {
              "type": "string"
            }
          },
          "metadata": {},
          "execution_count": 22
        }
      ],
      "source": [
        "d['k1'][3]['tricky'][3]['target'][3]"
      ]
    },
    {
      "cell_type": "markdown",
      "metadata": {
        "id": "q-QZh7ICRIpQ"
      },
      "source": [
        "** What is the main difference between a tuple and a list? **"
      ]
    },
    {
      "cell_type": "code",
      "execution_count": 24,
      "metadata": {
        "collapsed": true,
        "id": "n4RCB9fgRIpR"
      },
      "outputs": [],
      "source": [
        "# Tuple is immutable"
      ]
    },
    {
      "cell_type": "markdown",
      "metadata": {
        "id": "42jzbDD4RIpR"
      },
      "source": [
        "** Create a function that grabs the email website domain from a string in the form: **\n",
        "\n",
        "    user@domain.com\n",
        "    \n",
        "**So for example, passing \"user@domain.com\" would return: domain.com**"
      ]
    },
    {
      "cell_type": "code",
      "execution_count": 26,
      "metadata": {
        "collapsed": true,
        "id": "VQaAaHQsRIpS"
      },
      "outputs": [],
      "source": [
        "def domainGet(str):\n",
        "        list=str.split('@')\n",
        "        print(list[1])\n",
        "        return"
      ]
    },
    {
      "cell_type": "code",
      "execution_count": 28,
      "metadata": {
        "id": "UJ9ZQN28RIpS",
        "outputId": "9acadff3-5e3a-48b4-f557-919f550bd008",
        "colab": {
          "base_uri": "https://localhost:8080/"
        }
      },
      "outputs": [
        {
          "output_type": "stream",
          "name": "stdout",
          "text": [
            "domain.com\n"
          ]
        }
      ],
      "source": [
        "domainGet('user@domain.com')"
      ]
    },
    {
      "cell_type": "markdown",
      "metadata": {
        "id": "rIXsYpXjRIpT"
      },
      "source": [
        "** Create a basic function that returns True if the word 'dog' is contained in the input string. Don't worry about edge cases like a punctuation being attached to the word dog, but do account for capitalization. **"
      ]
    },
    {
      "cell_type": "code",
      "execution_count": 29,
      "metadata": {
        "collapsed": true,
        "id": "l4L0bbHDRIpT"
      },
      "outputs": [],
      "source": [
        "def findDog(string):\n",
        "      lst=string.split()\n",
        "      x=len(lst)\n",
        "      a=0\n",
        "      c=0\n",
        "      while(a<x):\n",
        "             if(lst[a]=='dog' or lst[a]=='Dog'):\n",
        "                 c=c+1\n",
        "             a=a+1\n",
        "      if (c>=1):\n",
        "             print('True')\n",
        "      else:\n",
        "             print('False')\n",
        "      return "
      ]
    },
    {
      "cell_type": "code",
      "execution_count": 30,
      "metadata": {
        "id": "XDk_JrejRIpT",
        "outputId": "0dfd7cb5-1da7-451b-bed2-bc72cc2eb8ca",
        "colab": {
          "base_uri": "https://localhost:8080/"
        }
      },
      "outputs": [
        {
          "output_type": "stream",
          "name": "stdout",
          "text": [
            "True\n"
          ]
        }
      ],
      "source": [
        "findDog('Is there a dog here?')"
      ]
    },
    {
      "cell_type": "markdown",
      "metadata": {
        "id": "xY3Bd97JRIpT"
      },
      "source": [
        "** Create a function that counts the number of times the word \"dog\" occurs in a string. Again ignore edge cases. **"
      ]
    },
    {
      "cell_type": "code",
      "execution_count": 34,
      "metadata": {
        "id": "CZFiBJzpRIpU"
      },
      "outputs": [],
      "source": [
        "def countDog(string):\n",
        "      lst=string.split()\n",
        "      x=len(lst)\n",
        "      a=0\n",
        "      c=0\n",
        "      while(a<x):\n",
        "             if(lst[a]=='dog' or lst[a]=='Dog'):\n",
        "                 c=c+1\n",
        "             a=a+1\n",
        "      print(c)\n",
        "      return "
      ]
    },
    {
      "cell_type": "code",
      "execution_count": 35,
      "metadata": {
        "id": "zKCsff1aRIpU",
        "outputId": "544c6477-55b9-4813-eea4-ab2e31edf854",
        "colab": {
          "base_uri": "https://localhost:8080/"
        }
      },
      "outputs": [
        {
          "output_type": "stream",
          "name": "stdout",
          "text": [
            "2\n"
          ]
        }
      ],
      "source": [
        "countDog('This dog runs faster than the other dog dude!')"
      ]
    },
    {
      "cell_type": "markdown",
      "metadata": {
        "id": "5ZhfrMHMRIpU"
      },
      "source": [
        "** Use lambda expressions and the filter() function to filter out words from a list that don't start with the letter 's'. For example:**\n",
        "\n",
        "    seq = ['soup','dog','salad','cat','great']\n",
        "\n",
        "**should be filtered down to:**\n",
        "\n",
        "    ['soup','salad']"
      ]
    },
    {
      "cell_type": "code",
      "execution_count": 36,
      "metadata": {
        "collapsed": true,
        "id": "GnoW2wDPRIpU"
      },
      "outputs": [],
      "source": [
        "seq = ['soup','dog','salad','cat','great']"
      ]
    },
    {
      "cell_type": "code",
      "execution_count": 37,
      "metadata": {
        "id": "Rjrtf_20RIpV",
        "outputId": "a883ad80-e973-449a-e15a-9d35a2d1fb2d",
        "colab": {
          "base_uri": "https://localhost:8080/"
        }
      },
      "outputs": [
        {
          "output_type": "execute_result",
          "data": {
            "text/plain": [
              "['soup', 'salad']"
            ]
          },
          "metadata": {},
          "execution_count": 37
        }
      ],
      "source": [
        "list(filter(lambda word: word[0]=='s',seq))"
      ]
    },
    {
      "cell_type": "markdown",
      "metadata": {
        "id": "bQEH2KLnRIpV"
      },
      "source": [
        "### Final Problem\n",
        "**You are driving a little too fast, and a police officer stops you. Write a function\n",
        "  to return one of 3 possible results: \"No ticket\", \"Small ticket\", or \"Big Ticket\". \n",
        "  If your speed is 60 or less, the result is \"No Ticket\". If speed is between 61 \n",
        "  and 80 inclusive, the result is \"Small Ticket\". If speed is 81 or more, the result is \"Big    Ticket\". Unless it is your birthday (encoded as a boolean value in the parameters of the function) -- on your birthday, your speed can be 5 higher in all \n",
        "  cases. **"
      ]
    },
    {
      "cell_type": "code",
      "execution_count": 41,
      "metadata": {
        "collapsed": true,
        "id": "bG-6ZCuzRIpV"
      },
      "outputs": [],
      "source": [
        "def caught_speeding(speed, is_birthday):\n",
        "       if(is_birthday == False):\n",
        "            if(speed<=60):\n",
        "                print('No Ticket')\n",
        "                return\n",
        "            if(61<=speed & speed<=80):\n",
        "                print('Small Ticket')\n",
        "                return\n",
        "            if(speed>=81):\n",
        "                print('Big Ticket')\n",
        "                return\n",
        "       else:\n",
        "            if(speed<=65):\n",
        "                print('No Ticket')\n",
        "                return\n",
        "            if(66<=speed & speed<=85):\n",
        "                print('Small Ticket')\n",
        "                return\n",
        "            if(speed>=86):\n",
        "                print('Big Ticket')\n",
        "                return       "
      ]
    },
    {
      "cell_type": "code",
      "execution_count": 42,
      "metadata": {
        "id": "7f8_nsgsRIpW",
        "outputId": "4cdb3c65-d8ea-4c3f-dbe5-2ba4b16f06bc",
        "colab": {
          "base_uri": "https://localhost:8080/"
        }
      },
      "outputs": [
        {
          "output_type": "stream",
          "name": "stdout",
          "text": [
            "Small Ticket\n"
          ]
        }
      ],
      "source": [
        "caught_speeding(81,True)"
      ]
    },
    {
      "cell_type": "code",
      "execution_count": 43,
      "metadata": {
        "id": "jlvp8y1WRIpW",
        "outputId": "f4dc16d4-0c62-4808-c1e5-35f106d8e199",
        "colab": {
          "base_uri": "https://localhost:8080/"
        }
      },
      "outputs": [
        {
          "output_type": "stream",
          "name": "stdout",
          "text": [
            "Big Ticket\n"
          ]
        }
      ],
      "source": [
        "caught_speeding(81,False)"
      ]
    },
    {
      "cell_type": "markdown",
      "metadata": {
        "id": "aOuRkk8mRIpW"
      },
      "source": [
        "# Great job!"
      ]
    }
  ],
  "metadata": {
    "kernelspec": {
      "display_name": "Python 3",
      "language": "python",
      "name": "python3"
    },
    "language_info": {
      "codemirror_mode": {
        "name": "ipython",
        "version": 3
      },
      "file_extension": ".py",
      "mimetype": "text/x-python",
      "name": "python",
      "nbconvert_exporter": "python",
      "pygments_lexer": "ipython3",
      "version": "3.6.2"
    },
    "colab": {
      "provenance": []
    }
  },
  "nbformat": 4,
  "nbformat_minor": 0
}